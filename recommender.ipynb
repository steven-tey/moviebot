{
  "nbformat": 4,
  "nbformat_minor": 0,
  "metadata": {
    "colab": {
      "name": "Prototyping Movie Recommender.ipynb",
      "provenance": [],
      "collapsed_sections": []
    },
    "kernelspec": {
      "name": "python3",
      "display_name": "Python 3"
    }
  },
  "cells": [
    {
      "cell_type": "markdown",
      "metadata": {
        "id": "rz026UwKoe6Y"
      },
      "source": [
        "# Movie Recommendation Algorithm\n",
        "*Team Project: Ahmed, Dennis, Pedro and Steven. This particular notebook was written by Pedro and Dennis, with review by Ahmed and Steven, and with comments and prose by Pedro.*"
      ]
    },
    {
      "cell_type": "markdown",
      "metadata": {
        "id": "IGHKKDImi-wz"
      },
      "source": [
        "# Table of Contents\n",
        "\n",
        "\n",
        "1.   Preparing the Dataset\n",
        "  - Importing the data, merging separate .csv files, creating word soups!\n",
        "2.   Creating Our Recommendation Model\n",
        "  - Gathering user input, vectorizing word soups, investigating cosine similarity\n",
        "3.   References\n",
        "\n"
      ]
    },
    {
      "cell_type": "markdown",
      "metadata": {
        "id": "lxQ0otWvAg58"
      },
      "source": [
        "In this notebook, we will show how we modified code from Datacamp's [movie recommendation algorithm tutorial](https://www.datacamp.com/community/tutorials/recommender-systems-python), and data from [Kaggle](https://www.kaggle.com/rounakbanik/the-movies-dataset), to create a flexible movie recommendation chatbot. \n",
        "\n",
        "Our idea was to have a chatbot that you can talk to to get good movie recommendations: we wanted to make it flexible enough that it could be more useful than simply looking up 'best movie' lists but constrained enough such that we could make good recommendations. Our approach was to therefore build on the cosine similarity model presented by Datacamp (liked above) to create a system that can do much more than take in a movie title and inform you of the most similar movies: we built a model that can give you ever more precise recommendations based on how much you tell the chatbot about the genres, actors, and even elements of the plot that you enjoy (or are looking for at the moment)."
      ]
    },
    {
      "cell_type": "markdown",
      "metadata": {
        "id": "8mf8XpMJpYmV"
      },
      "source": [
        "## Preparing the Dataset\n",
        "\n",
        "The first step in the process was to import the data. We imported the data from Kaggle and stored it in Google Drive for use with CoLab (having the data in the cloud makes it easier for others to access the latest version of the data). Kaggle's dataset consists of four relevant .csv files: each containing different information four around 45,000 movies. We import these csv files from GDrive into python using pandas."
      ]
    },
    {
      "cell_type": "code",
      "metadata": {
        "id": "9CNGGjTiRvIF",
        "colab": {
          "base_uri": "https://localhost:8080/"
        },
        "outputId": "4d8065b0-e2cd-43bd-ec56-f440b0649fc0"
      },
      "source": [
        "#Mounting Google Drive to access the dataset\n",
        "from google.colab import drive\n",
        "drive.mount('/content/drive')"
      ],
      "execution_count": null,
      "outputs": [
        {
          "output_type": "stream",
          "text": [
            "Mounted at /content/drive\n"
          ],
          "name": "stdout"
        }
      ]
    },
    {
      "cell_type": "code",
      "metadata": {
        "colab": {
          "base_uri": "https://localhost:8080/"
        },
        "id": "x_ZXYlQAoEsq",
        "outputId": "130d483d-8573-4d22-de19-d0cb8ea4041d"
      },
      "source": [
        "import pandas as pd\n",
        "import numpy as np\n",
        "\n",
        "#Importing the relevant datasets from the mounted Google Drive (change the code below if the data is hosted elsewhere)\n",
        "metadata = pd.read_csv(\"/content/drive/Shareddrives/Tutorial_GProject /Pedro's Experimenting Data/movies_metadata.csv\")\n",
        "ratings = pd.read_csv(\"/content/drive/Shareddrives/Tutorial_GProject /Pedro's Experimenting Data/ratings.csv\")\n",
        "credits = pd.read_csv(\"/content/drive/Shareddrives/Tutorial_GProject /Pedro's Experimenting Data/credits.csv\")\n",
        "keywords = pd.read_csv(\"/content/drive/Shareddrives/Tutorial_GProject /Pedro's Experimenting Data/keywords.csv\")"
      ],
      "execution_count": null,
      "outputs": [
        {
          "output_type": "stream",
          "text": [
            "/usr/local/lib/python3.6/dist-packages/IPython/core/interactiveshell.py:2718: DtypeWarning: Columns (10) have mixed types.Specify dtype option on import or set low_memory=False.\n",
            "  interactivity=interactivity, compiler=compiler, result=result)\n"
          ],
          "name": "stderr"
        }
      ]
    },
    {
      "cell_type": "markdown",
      "metadata": {
        "id": "R_Z9MIezDpWo"
      },
      "source": [
        "The first step when we get access to new data is to take a look at the format of the tables and the content of the columns, so that we know how to move forward."
      ]
    },
    {
      "cell_type": "code",
      "metadata": {
        "colab": {
          "base_uri": "https://localhost:8080/"
        },
        "id": "03J1bNzT0s4t",
        "outputId": "c428fb4b-ed14-4eee-cff9-7ef1bea7ee5d"
      },
      "source": [
        "#Data Exploration\n",
        "#Here we explore the data shape and the name of its coloumns\n",
        "\n",
        "#check the shape of the DataFrame (rows, columns)\n",
        "#check the data columns\n",
        "print(\"metadata shape:\",metadata.shape)\n",
        "print(\"metadata columns name:\", metadata.columns)\n",
        "print() \n",
        "\n",
        "print(\"ratings shape:\",ratings.shape)\n",
        "print(\"ratings columns name:\", list(ratings.columns))\n",
        "print()\n",
        "\n",
        "print(\"credits shape:\",credits.shape)\n",
        "print(\"columns name:\", list(credits.columns))\n",
        "print()\n",
        "\n",
        "print(\"keywords shape:\",keywords.shape)\n",
        "print(\"columns name:\", list(keywords.columns))\n",
        "print()"
      ],
      "execution_count": null,
      "outputs": [
        {
          "output_type": "stream",
          "text": [
            "metadata shape: (45466, 24)\n",
            "metadata columns name: Index(['adult', 'belongs_to_collection', 'budget', 'genres', 'homepage', 'id',\n",
            "       'imdb_id', 'original_language', 'original_title', 'overview',\n",
            "       'popularity', 'poster_path', 'production_companies',\n",
            "       'production_countries', 'release_date', 'revenue', 'runtime',\n",
            "       'spoken_languages', 'status', 'tagline', 'title', 'video',\n",
            "       'vote_average', 'vote_count'],\n",
            "      dtype='object')\n",
            "\n",
            "ratings shape: (26024289, 4)\n",
            "ratings columns name: ['userId', 'movieId', 'rating', 'timestamp']\n",
            "\n",
            "credits shape: (45476, 3)\n",
            "columns name: ['cast', 'crew', 'id']\n",
            "\n",
            "keywords shape: (46419, 2)\n",
            "columns name: ['id', 'keywords']\n",
            "\n"
          ],
          "name": "stdout"
        }
      ]
    },
    {
      "cell_type": "markdown",
      "metadata": {
        "id": "ZtYoTa8hFQds"
      },
      "source": [
        "As we can see from above, these data are not exactly perfeclty organzied to be used together yet. All of these tables have different dimensions, and it could get quite confusing to merge them together for our recommendation engine. Luckily all of them have a column for movie ID, which is the unique IMDB id each movie has that will allow us to merge them effectively."
      ]
    },
    {
      "cell_type": "code",
      "metadata": {
        "id": "yeNxI-Nk-gWF",
        "colab": {
          "base_uri": "https://localhost:8080/"
        },
        "outputId": "6197467e-148b-4ab4-8a85-b017d3f27ff7"
      },
      "source": [
        "#Cutting the data to reduce resource use: note comments below on WHY we had to \n",
        "#cut the data down by so much\n",
        "\n",
        "metadata = pd.read_csv(\"/content/drive/Shareddrives/Tutorial_GProject /Pedro's Experimenting Data/movies_metadata.csv\") # re-importing the data here because if the data is not re-imported, every time we run this cell again we will be performing the data cut and the merge on a different dataframe\n",
        "metadata = metadata.iloc[0:10000,:]\n",
        "\n",
        "# Convert IDs to int. Required for merging on id using pandas .merge command\n",
        "keywords['id'] = keywords['id'].astype('int')\n",
        "credits['id'] = credits['id'].astype('int')\n",
        "metadata['id'] = metadata['id'].astype('int')\n",
        "\n",
        "# Merge keywords and credits into your main metadata dataframe: this will look\n",
        "#for candidates on the credits and keywords tables that have ids that match those\n",
        "#in the metadata table, which we will use as our main data from now on.\n",
        "metadata = metadata.merge(credits, on='id')\n",
        "metadata = metadata.merge(keywords, on='id')\n",
        "metadata.shape"
      ],
      "execution_count": null,
      "outputs": [
        {
          "output_type": "stream",
          "text": [
            "/usr/local/lib/python3.6/dist-packages/IPython/core/interactiveshell.py:2718: DtypeWarning: Columns (10) have mixed types.Specify dtype option on import or set low_memory=False.\n",
            "  interactivity=interactivity, compiler=compiler, result=result)\n"
          ],
          "name": "stderr"
        },
        {
          "output_type": "execute_result",
          "data": {
            "text/plain": [
              "(10048, 27)"
            ]
          },
          "metadata": {
            "tags": []
          },
          "execution_count": 4
        }
      ]
    },
    {
      "cell_type": "markdown",
      "metadata": {
        "id": "ubeGdlrEHQEF"
      },
      "source": [
        "Now, let us take a look into what our merged table looks like:"
      ]
    },
    {
      "cell_type": "code",
      "metadata": {
        "colab": {
          "base_uri": "https://localhost:8080/",
          "height": 279
        },
        "id": "XkTiyyGwCdLk",
        "outputId": "d583381d-0cfe-4ed1-c8e0-cdea148d5a82"
      },
      "source": [
        "# Print the important features of metadata\n",
        "metadata[['title', 'cast', 'crew', 'keywords', 'genres']].head()"
      ],
      "execution_count": null,
      "outputs": [
        {
          "output_type": "execute_result",
          "data": {
            "text/html": [
              "<div>\n",
              "<style scoped>\n",
              "    .dataframe tbody tr th:only-of-type {\n",
              "        vertical-align: middle;\n",
              "    }\n",
              "\n",
              "    .dataframe tbody tr th {\n",
              "        vertical-align: top;\n",
              "    }\n",
              "\n",
              "    .dataframe thead th {\n",
              "        text-align: right;\n",
              "    }\n",
              "</style>\n",
              "<table border=\"1\" class=\"dataframe\">\n",
              "  <thead>\n",
              "    <tr style=\"text-align: right;\">\n",
              "      <th></th>\n",
              "      <th>title</th>\n",
              "      <th>cast</th>\n",
              "      <th>crew</th>\n",
              "      <th>keywords</th>\n",
              "      <th>genres</th>\n",
              "    </tr>\n",
              "  </thead>\n",
              "  <tbody>\n",
              "    <tr>\n",
              "      <th>0</th>\n",
              "      <td>Toy Story</td>\n",
              "      <td>[{'cast_id': 14, 'character': 'Woody (voice)',...</td>\n",
              "      <td>[{'credit_id': '52fe4284c3a36847f8024f49', 'de...</td>\n",
              "      <td>[{'id': 931, 'name': 'jealousy'}, {'id': 4290,...</td>\n",
              "      <td>[{'id': 16, 'name': 'Animation'}, {'id': 35, '...</td>\n",
              "    </tr>\n",
              "    <tr>\n",
              "      <th>1</th>\n",
              "      <td>Jumanji</td>\n",
              "      <td>[{'cast_id': 1, 'character': 'Alan Parrish', '...</td>\n",
              "      <td>[{'credit_id': '52fe44bfc3a36847f80a7cd1', 'de...</td>\n",
              "      <td>[{'id': 10090, 'name': 'board game'}, {'id': 1...</td>\n",
              "      <td>[{'id': 12, 'name': 'Adventure'}, {'id': 14, '...</td>\n",
              "    </tr>\n",
              "    <tr>\n",
              "      <th>2</th>\n",
              "      <td>Grumpier Old Men</td>\n",
              "      <td>[{'cast_id': 2, 'character': 'Max Goldman', 'c...</td>\n",
              "      <td>[{'credit_id': '52fe466a9251416c75077a89', 'de...</td>\n",
              "      <td>[{'id': 1495, 'name': 'fishing'}, {'id': 12392...</td>\n",
              "      <td>[{'id': 10749, 'name': 'Romance'}, {'id': 35, ...</td>\n",
              "    </tr>\n",
              "    <tr>\n",
              "      <th>3</th>\n",
              "      <td>Waiting to Exhale</td>\n",
              "      <td>[{'cast_id': 1, 'character': \"Savannah 'Vannah...</td>\n",
              "      <td>[{'credit_id': '52fe44779251416c91011acb', 'de...</td>\n",
              "      <td>[{'id': 818, 'name': 'based on novel'}, {'id':...</td>\n",
              "      <td>[{'id': 35, 'name': 'Comedy'}, {'id': 18, 'nam...</td>\n",
              "    </tr>\n",
              "    <tr>\n",
              "      <th>4</th>\n",
              "      <td>Father of the Bride Part II</td>\n",
              "      <td>[{'cast_id': 1, 'character': 'George Banks', '...</td>\n",
              "      <td>[{'credit_id': '52fe44959251416c75039ed7', 'de...</td>\n",
              "      <td>[{'id': 1009, 'name': 'baby'}, {'id': 1599, 'n...</td>\n",
              "      <td>[{'id': 35, 'name': 'Comedy'}]</td>\n",
              "    </tr>\n",
              "  </tbody>\n",
              "</table>\n",
              "</div>"
            ],
            "text/plain": [
              "                         title  ...                                             genres\n",
              "0                    Toy Story  ...  [{'id': 16, 'name': 'Animation'}, {'id': 35, '...\n",
              "1                      Jumanji  ...  [{'id': 12, 'name': 'Adventure'}, {'id': 14, '...\n",
              "2             Grumpier Old Men  ...  [{'id': 10749, 'name': 'Romance'}, {'id': 35, ...\n",
              "3            Waiting to Exhale  ...  [{'id': 35, 'name': 'Comedy'}, {'id': 18, 'nam...\n",
              "4  Father of the Bride Part II  ...                     [{'id': 35, 'name': 'Comedy'}]\n",
              "\n",
              "[5 rows x 5 columns]"
            ]
          },
          "metadata": {
            "tags": []
          },
          "execution_count": 5
        }
      ]
    },
    {
      "cell_type": "markdown",
      "metadata": {
        "id": "RAf5MO8THVsP"
      },
      "source": [
        "This looks good, but notice how the cast, crew, keywords and genres are stored in what **looks** like dictionaries within lists. However, if we check what type they are really stored at:"
      ]
    },
    {
      "cell_type": "code",
      "metadata": {
        "colab": {
          "base_uri": "https://localhost:8080/"
        },
        "id": "XRzgyLbBINCL",
        "outputId": "47dcb878-a029-44de-bc5a-280e69b45b93"
      },
      "source": [
        "print(metadata['keywords'][0])\n",
        "print(type(metadata['keywords'][0]))"
      ],
      "execution_count": null,
      "outputs": [
        {
          "output_type": "stream",
          "text": [
            "[{'id': 931, 'name': 'jealousy'}, {'id': 4290, 'name': 'toy'}, {'id': 5202, 'name': 'boy'}, {'id': 6054, 'name': 'friendship'}, {'id': 9713, 'name': 'friends'}, {'id': 9823, 'name': 'rivalry'}, {'id': 165503, 'name': 'boy next door'}, {'id': 170722, 'name': 'new toy'}, {'id': 187065, 'name': 'toy comes to life'}]\n",
            "<class 'str'>\n"
          ],
          "name": "stdout"
        }
      ]
    },
    {
      "cell_type": "markdown",
      "metadata": {
        "id": "uhkHW8TrIoDN"
      },
      "source": [
        "It is a string! Pandas will by default store text values like this as strings, but we don't want that. The data was originally python objects, and the lists and dictonaries are much more useful for our data pre-processing. That is why we use the literal_eval function below on the columns with the info we want:"
      ]
    },
    {
      "cell_type": "code",
      "metadata": {
        "id": "2ZuuTJa9_cmB"
      },
      "source": [
        "#raises an exception if the input isn't a valid Python datatype, so the code won't be executed if it's not.\n",
        "#Parse the stringified features into their corresponding python objects\n",
        "\n",
        "from ast import literal_eval\n",
        "\n",
        "features = ['cast', 'crew', 'keywords', 'genres']\n",
        "for feature in features:\n",
        "    metadata[feature] = metadata[feature].apply(literal_eval)"
      ],
      "execution_count": null,
      "outputs": []
    },
    {
      "cell_type": "markdown",
      "metadata": {
        "id": "-gOy3T8UJFjs"
      },
      "source": [
        "How about now? What datatype is each cell in the cast, crew, keywords and genres section?"
      ]
    },
    {
      "cell_type": "code",
      "metadata": {
        "colab": {
          "base_uri": "https://localhost:8080/"
        },
        "id": "4KRjJrxNJMkM",
        "outputId": "5ae5937b-40c9-468e-d37e-00aef63e791a"
      },
      "source": [
        "print(metadata['genres'][0])\n",
        "print(type(metadata['genres'][0])) #type of the contents of the cell\n",
        "print(type(metadata['genres'][0][0])) #type of the contents of the list"
      ],
      "execution_count": null,
      "outputs": [
        {
          "output_type": "stream",
          "text": [
            "[{'id': 16, 'name': 'Animation'}, {'id': 35, 'name': 'Comedy'}, {'id': 10751, 'name': 'Family'}]\n",
            "<class 'list'>\n",
            "<class 'dict'>\n"
          ],
          "name": "stdout"
        }
      ]
    },
    {
      "cell_type": "markdown",
      "metadata": {
        "id": "7QTHNxEYJglX"
      },
      "source": [
        "Great! Now we have recovered the python objects. The next step is to make use of the data objects to extract the information we want. For instance, now that we have the crew information as a series of dictionaries within a list, we may want to extract the director. First, we will want to understand what each dictionary stores exactly:"
      ]
    },
    {
      "cell_type": "code",
      "metadata": {
        "colab": {
          "base_uri": "https://localhost:8080/"
        },
        "id": "KIK7MC21KIaq",
        "outputId": "7f6173f1-0973-40c3-deaf-4363ac70fa2f"
      },
      "source": [
        "print(metadata['crew'][0])\n",
        "print(type(metadata['crew'][0])) #type of the contents of the cell\n",
        "print(type(metadata['crew'][0][0])) #type of the contents of the list"
      ],
      "execution_count": null,
      "outputs": [
        {
          "output_type": "stream",
          "text": [
            "[{'credit_id': '52fe4284c3a36847f8024f49', 'department': 'Directing', 'gender': 2, 'id': 7879, 'job': 'Director', 'name': 'John Lasseter', 'profile_path': '/7EdqiNbr4FRjIhKHyPPdFfEEEFG.jpg'}, {'credit_id': '52fe4284c3a36847f8024f4f', 'department': 'Writing', 'gender': 2, 'id': 12891, 'job': 'Screenplay', 'name': 'Joss Whedon', 'profile_path': '/dTiVsuaTVTeGmvkhcyJvKp2A5kr.jpg'}, {'credit_id': '52fe4284c3a36847f8024f55', 'department': 'Writing', 'gender': 2, 'id': 7, 'job': 'Screenplay', 'name': 'Andrew Stanton', 'profile_path': '/pvQWsu0qc8JFQhMVJkTHuexUAa1.jpg'}, {'credit_id': '52fe4284c3a36847f8024f5b', 'department': 'Writing', 'gender': 2, 'id': 12892, 'job': 'Screenplay', 'name': 'Joel Cohen', 'profile_path': '/dAubAiZcvKFbboWlj7oXOkZnTSu.jpg'}, {'credit_id': '52fe4284c3a36847f8024f61', 'department': 'Writing', 'gender': 0, 'id': 12893, 'job': 'Screenplay', 'name': 'Alec Sokolow', 'profile_path': '/v79vlRYi94BZUQnkkyznbGUZLjT.jpg'}, {'credit_id': '52fe4284c3a36847f8024f67', 'department': 'Production', 'gender': 1, 'id': 12894, 'job': 'Producer', 'name': 'Bonnie Arnold', 'profile_path': None}, {'credit_id': '52fe4284c3a36847f8024f6d', 'department': 'Production', 'gender': 0, 'id': 12895, 'job': 'Executive Producer', 'name': 'Ed Catmull', 'profile_path': None}, {'credit_id': '52fe4284c3a36847f8024f73', 'department': 'Production', 'gender': 2, 'id': 12896, 'job': 'Producer', 'name': 'Ralph Guggenheim', 'profile_path': None}, {'credit_id': '52fe4284c3a36847f8024f79', 'department': 'Production', 'gender': 2, 'id': 12897, 'job': 'Executive Producer', 'name': 'Steve Jobs', 'profile_path': '/mOMP3SwD5qWQSR0ldCIByd3guTV.jpg'}, {'credit_id': '52fe4284c3a36847f8024f8b', 'department': 'Editing', 'gender': 2, 'id': 8, 'job': 'Editor', 'name': 'Lee Unkrich', 'profile_path': '/bdTCCXjgOV3YyaNmLGYGOxFQMOc.jpg'}, {'credit_id': '52fe4284c3a36847f8024f91', 'department': 'Art', 'gender': 2, 'id': 7883, 'job': 'Art Direction', 'name': 'Ralph Eggleston', 'profile_path': '/uUfcGKDsKO1aROMpXRs67Hn6RvR.jpg'}, {'credit_id': '598331bf925141421201044b', 'department': 'Editing', 'gender': 2, 'id': 1168870, 'job': 'Editor', 'name': 'Robert Gordon', 'profile_path': None}, {'credit_id': '5892168cc3a36809660095f9', 'department': 'Sound', 'gender': 0, 'id': 1552883, 'job': 'Foley Editor', 'name': 'Mary Helen Leasman', 'profile_path': None}, {'credit_id': '5531824d9251415289000945', 'department': 'Visual Effects', 'gender': 0, 'id': 1453514, 'job': 'Animation', 'name': 'Kim Blanchette', 'profile_path': None}, {'credit_id': '589215969251412dcb009bf6', 'department': 'Sound', 'gender': 0, 'id': 1414182, 'job': 'ADR Editor', 'name': 'Marilyn McCoppen', 'profile_path': None}, {'credit_id': '589217099251412dc500a018', 'department': 'Sound', 'gender': 2, 'id': 7885, 'job': 'Orchestrator', 'name': 'Randy Newman', 'profile_path': '/w0JzfoiM25nrnxYOzosPHRq6mlE.jpg'}, {'credit_id': '5693e6b29251417b0e0000e3', 'department': 'Editing', 'gender': 0, 'id': 1429549, 'job': 'Color Timer', 'name': 'Dale E. Grahn', 'profile_path': None}, {'credit_id': '572e2522c3a36869e6001a9c', 'department': 'Visual Effects', 'gender': 0, 'id': 7949, 'job': 'CG Painter', 'name': 'Robin Cooper', 'profile_path': None}, {'credit_id': '574f12309251415ca1000012', 'department': 'Writing', 'gender': 2, 'id': 7879, 'job': 'Original Story', 'name': 'John Lasseter', 'profile_path': '/7EdqiNbr4FRjIhKHyPPdFfEEEFG.jpg'}, {'credit_id': '574f1240c3a3682e7300001c', 'department': 'Writing', 'gender': 2, 'id': 12890, 'job': 'Original Story', 'name': 'Pete Docter', 'profile_path': '/r6ngPgnReA3RHmKjmSoVsc6Awjp.jpg'}, {'credit_id': '574f12519251415c92000015', 'department': 'Writing', 'gender': 0, 'id': 7911, 'job': 'Original Story', 'name': 'Joe Ranft', 'profile_path': '/f1BoWC2JbCcfP1e5hKfGsxkHzVU.jpg'}, {'credit_id': '574f12cec3a3682e82000022', 'department': 'Crew', 'gender': 0, 'id': 1629419, 'job': 'Post Production Supervisor', 'name': 'Patsy Bouge', 'profile_path': None}, {'credit_id': '574f14f19251415ca1000082', 'department': 'Art', 'gender': 0, 'id': 7961, 'job': 'Sculptor', 'name': 'Norm DeCarlo', 'profile_path': None}, {'credit_id': '5751ae4bc3a3683772002b7f', 'department': 'Visual Effects', 'gender': 2, 'id': 12905, 'job': 'Animation Director', 'name': 'Ash Brannon', 'profile_path': '/6ueWgPEEBHvS3De2BHYQnYjRTig.jpg'}, {'credit_id': '5891edbe9251412dc5007cd6', 'department': 'Sound', 'gender': 2, 'id': 7885, 'job': 'Music', 'name': 'Randy Newman', 'profile_path': '/w0JzfoiM25nrnxYOzosPHRq6mlE.jpg'}, {'credit_id': '589213d39251412dc8009832', 'department': 'Directing', 'gender': 0, 'id': 1748707, 'job': 'Layout', 'name': 'Roman Figun', 'profile_path': None}, {'credit_id': '5892173dc3a3680968009351', 'department': 'Sound', 'gender': 2, 'id': 4949, 'job': 'Orchestrator', 'name': 'Don Davis', 'profile_path': None}, {'credit_id': '589217cec3a3686b0a0052ba', 'department': 'Sound', 'gender': 0, 'id': 1372885, 'job': 'Music Editor', 'name': 'James Flamberg', 'profile_path': None}, {'credit_id': '58921831c3a3686348004a64', 'department': 'Editing', 'gender': 0, 'id': 1739962, 'job': 'Negative Cutter', 'name': 'Mary Beth Smith', 'profile_path': None}, {'credit_id': '58921838c3a36809700096c0', 'department': 'Editing', 'gender': 0, 'id': 1748513, 'job': 'Negative Cutter', 'name': 'Rick Mackay', 'profile_path': None}, {'credit_id': '589218429251412dd1009d1b', 'department': 'Art', 'gender': 0, 'id': 1458006, 'job': 'Title Designer', 'name': 'Susan Bradley', 'profile_path': None}, {'credit_id': '5891ed99c3a3680966007670', 'department': 'Crew', 'gender': 0, 'id': 1748557, 'job': 'Supervising Technical Director', 'name': 'William Reeves', 'profile_path': None}, {'credit_id': '5891edcec3a3686b0a002eb2', 'department': 'Sound', 'gender': 2, 'id': 7885, 'job': 'Songs', 'name': 'Randy Newman', 'profile_path': '/w0JzfoiM25nrnxYOzosPHRq6mlE.jpg'}, {'credit_id': '5891edf9c3a36809700075e6', 'department': 'Writing', 'gender': 2, 'id': 7, 'job': 'Original Story', 'name': 'Andrew Stanton', 'profile_path': '/pvQWsu0qc8JFQhMVJkTHuexUAa1.jpg'}, {'credit_id': '58920f0b9251412dd7009104', 'department': 'Crew', 'gender': 2, 'id': 12890, 'job': 'Supervising Animator', 'name': 'Pete Docter', 'profile_path': '/r6ngPgnReA3RHmKjmSoVsc6Awjp.jpg'}, {'credit_id': '58920f1fc3a3680977009021', 'department': 'Sound', 'gender': 2, 'id': 2216, 'job': 'Sound Designer', 'name': 'Gary Rydstrom', 'profile_path': '/jZpr1nVfO7lldWI0YtmP1FGw7Rj.jpg'}, {'credit_id': '58920f389251412dd700912d', 'department': 'Production', 'gender': 0, 'id': 12909, 'job': 'Production Supervisor', 'name': 'Karen Robert Jackson', 'profile_path': None}, {'credit_id': '58920fbd9251412dcb00969c', 'department': 'Crew', 'gender': 0, 'id': 953331, 'job': 'Executive Music Producer', 'name': 'Chris Montan', 'profile_path': None}, {'credit_id': '589210069251412dd7009219', 'department': 'Visual Effects', 'gender': 0, 'id': 7893, 'job': 'Animation Director', 'name': 'Rich Quade', 'profile_path': None}, {'credit_id': '589210329251412dcd00943b', 'department': 'Visual Effects', 'gender': 0, 'id': 8025, 'job': 'Animation', 'name': 'Michael Berenstein', 'profile_path': None}, {'credit_id': '5892103bc3a368096a009180', 'department': 'Visual Effects', 'gender': 0, 'id': 78009, 'job': 'Animation', 'name': 'Colin Brady', 'profile_path': None}, {'credit_id': '5892105dc3a3680968008db2', 'department': 'Visual Effects', 'gender': 0, 'id': 1748682, 'job': 'Animation', 'name': 'Davey Crockett Feiten', 'profile_path': None}, {'credit_id': '589210669251412dcd009466', 'department': 'Visual Effects', 'gender': 0, 'id': 1454030, 'job': 'Animation', 'name': 'Angie Glocka', 'profile_path': None}, {'credit_id': '5892107c9251412dd1009613', 'department': 'Visual Effects', 'gender': 0, 'id': 1748683, 'job': 'Animation', 'name': 'Rex Grignon', 'profile_path': None}, {'credit_id': '5892108ac3a3680973008d3f', 'department': 'Visual Effects', 'gender': 0, 'id': 1748684, 'job': 'Animation', 'name': 'Tom K. Gurney', 'profile_path': None}, {'credit_id': '58921093c3a3686348004477', 'department': 'Visual Effects', 'gender': 2, 'id': 8029, 'job': 'Animation', 'name': 'Jimmy Hayward', 'profile_path': '/lTDRpudEY7BDwTefXbXzMlmb0ui.jpg'}, {'credit_id': '5892109b9251412dcd0094b0', 'department': 'Visual Effects', 'gender': 0, 'id': 1426773, 'job': 'Animation', 'name': 'Hal T. Hickel', 'profile_path': None}, {'credit_id': '589210a29251412dc5009a29', 'department': 'Visual Effects', 'gender': 0, 'id': 8035, 'job': 'Animation', 'name': 'Karen Kiser', 'profile_path': None}, {'credit_id': '589210ccc3a3680977009191', 'department': 'Visual Effects', 'gender': 0, 'id': 1748688, 'job': 'Animation', 'name': 'Anthony B. LaMolinara', 'profile_path': None}, {'credit_id': '589210d7c3a3686b0a004c1f', 'department': 'Visual Effects', 'gender': 0, 'id': 587314, 'job': 'Animation', 'name': 'Guionne Leroy', 'profile_path': None}, {'credit_id': '589210e1c3a36809770091a7', 'department': 'Visual Effects', 'gender': 2, 'id': 7918, 'job': 'Animation', 'name': 'Bud Luckey', 'profile_path': '/pcCh7G19FKMNijmPQg1PMH1btic.jpg'}, {'credit_id': '589210ee9251412dc200978a', 'department': 'Visual Effects', 'gender': 0, 'id': 1748689, 'job': 'Animation', 'name': 'Les Major', 'profile_path': None}, {'credit_id': '589210fa9251412dc8009595', 'department': 'Visual Effects', 'gender': 2, 'id': 7892, 'job': 'Animation', 'name': 'Glenn McQueen', 'profile_path': None}, {'credit_id': '589211029251412dc8009598', 'department': 'Visual Effects', 'gender': 0, 'id': 555795, 'job': 'Animation', 'name': 'Mark Oftedal', 'profile_path': None}, {'credit_id': '5892110b9251412dc800959d', 'department': 'Visual Effects', 'gender': 2, 'id': 7882, 'job': 'Animation', 'name': 'Jeff Pidgeon', 'profile_path': '/yLddkg5HcgbJg00cS13GVBnP0HY.jpg'}, {'credit_id': '58921113c3a36863480044e4', 'department': 'Visual Effects', 'gender': 0, 'id': 8017, 'job': 'Animation', 'name': 'Jeff Pratt', 'profile_path': None}, {'credit_id': '5892111c9251412dcb0097e9', 'department': 'Visual Effects', 'gender': 0, 'id': 1184140, 'job': 'Animation', 'name': 'Steve Rabatich', 'profile_path': None}, {'credit_id': '58921123c3a36809700090f6', 'department': 'Visual Effects', 'gender': 0, 'id': 8049, 'job': 'Animation', 'name': 'Roger Rose', 'profile_path': None}, {'credit_id': '5892112b9251412dcb0097fb', 'department': 'Visual Effects', 'gender': 0, 'id': 1509559, 'job': 'Animation', 'name': 'Steve Segal', 'profile_path': None}, {'credit_id': '589211349251412dc80095c3', 'department': 'Visual Effects', 'gender': 0, 'id': 1748691, 'job': 'Animation', 'name': 'Doug Sheppeck', 'profile_path': None}, {'credit_id': '5892113cc3a3680970009106', 'department': 'Visual Effects', 'gender': 0, 'id': 8050, 'job': 'Animation', 'name': 'Alan Sperling', 'profile_path': None}, {'credit_id': '58921148c3a3686b0a004c99', 'department': 'Visual Effects', 'gender': 0, 'id': 8010, 'job': 'Animation', 'name': 'Doug Sweetland', 'profile_path': None}, {'credit_id': '58921150c3a3680966009125', 'department': 'Visual Effects', 'gender': 0, 'id': 8044, 'job': 'Animation', 'name': 'David Tart', 'profile_path': None}, {'credit_id': '589211629251412dc5009b00', 'department': 'Visual Effects', 'gender': 0, 'id': 1454034, 'job': 'Animation', 'name': 'Ken Willard', 'profile_path': None}, {'credit_id': '589211c1c3a3686b0a004d28', 'department': 'Visual Effects', 'gender': 0, 'id': 7887, 'job': 'Visual Effects Supervisor', 'name': 'Thomas Porter', 'profile_path': None}, {'credit_id': '589211d4c3a3680968008ed9', 'department': 'Visual Effects', 'gender': 0, 'id': 1406878, 'job': 'Visual Effects', 'name': 'Mark Thomas Henne', 'profile_path': None}, {'credit_id': '589211f59251412dd4008e65', 'department': 'Visual Effects', 'gender': 0, 'id': 1748698, 'job': 'Visual Effects', 'name': 'Oren Jacob', 'profile_path': None}, {'credit_id': '58921242c3a368096a00939b', 'department': 'Visual Effects', 'gender': 0, 'id': 1748699, 'job': 'Visual Effects', 'name': 'Darwyn Peachey', 'profile_path': None}, {'credit_id': '5892124b9251412dc5009bd2', 'department': 'Visual Effects', 'gender': 0, 'id': 1748701, 'job': 'Visual Effects', 'name': 'Mitch Prater', 'profile_path': None}, {'credit_id': '58921264c3a3686b0a004dbf', 'department': 'Visual Effects', 'gender': 0, 'id': 1748703, 'job': 'Visual Effects', 'name': 'Brian M. Rosen', 'profile_path': None}, {'credit_id': '589212709251412dcd009676', 'department': 'Lighting', 'gender': 1, 'id': 12912, 'job': 'Lighting Supervisor', 'name': 'Sharon Calahan', 'profile_path': None}, {'credit_id': '5892127fc3a3686b0a004de5', 'department': 'Lighting', 'gender': 0, 'id': 7899, 'job': 'Lighting Supervisor', 'name': 'Galyn Susman', 'profile_path': None}, {'credit_id': '589212cdc3a3680970009268', 'department': 'Visual Effects', 'gender': 0, 'id': 12915, 'job': 'CG Painter', 'name': 'William Cone', 'profile_path': None}, {'credit_id': '5892130f9251412dc8009791', 'department': 'Art', 'gender': 0, 'id': 1748705, 'job': 'Sculptor', 'name': 'Shelley Daniels Lekven', 'profile_path': None}, {'credit_id': '5892131c9251412dd4008f4c', 'department': 'Visual Effects', 'gender': 2, 'id': 7889, 'job': 'Character Designer', 'name': 'Bob Pauley', 'profile_path': None}, {'credit_id': '589213249251412dd100987b', 'department': 'Visual Effects', 'gender': 2, 'id': 7918, 'job': 'Character Designer', 'name': 'Bud Luckey', 'profile_path': '/pcCh7G19FKMNijmPQg1PMH1btic.jpg'}, {'credit_id': '5892132b9251412dc80097b1', 'department': 'Visual Effects', 'gender': 2, 'id': 7, 'job': 'Character Designer', 'name': 'Andrew Stanton', 'profile_path': '/pvQWsu0qc8JFQhMVJkTHuexUAa1.jpg'}, {'credit_id': '58921332c3a368634800467b', 'department': 'Visual Effects', 'gender': 0, 'id': 12915, 'job': 'Character Designer', 'name': 'William Cone', 'profile_path': None}, {'credit_id': '5892135f9251412dd4008f90', 'department': 'Visual Effects', 'gender': 0, 'id': 1748706, 'job': 'Character Designer', 'name': 'Steve Johnson', 'profile_path': None}, {'credit_id': '58921384c3a3680973008fd4', 'department': 'Visual Effects', 'gender': 0, 'id': 1176752, 'job': 'Character Designer', 'name': 'Dan Haskett', 'profile_path': None}, {'credit_id': '5892138e9251412dc20099fc', 'department': 'Visual Effects', 'gender': 0, 'id': 1088034, 'job': 'Character Designer', 'name': 'Tom Holloway', 'profile_path': '/a0r0T2usTBpgMI5aZbRBDW1fTl8.jpg'}, {'credit_id': '58921395c3a368097700942f', 'department': 'Visual Effects', 'gender': 0, 'id': 1447465, 'job': 'Character Designer', 'name': 'Jean Gillmore', 'profile_path': None}, {'credit_id': '589213e2c3a3680973009026', 'department': 'Directing', 'gender': 0, 'id': 1748709, 'job': 'Layout', 'name': 'Desirée Mourad', 'profile_path': None}, {'credit_id': '589214099251412dc5009d57', 'department': 'Art', 'gender': 0, 'id': 1748710, 'job': 'Set Dresser', 'name': \"Kelly O'Connell\", 'profile_path': None}, {'credit_id': '58921411c3a3686b0a004f70', 'department': 'Art', 'gender': 0, 'id': 1443471, 'job': 'Set Dresser', 'name': 'Sonoko Konishi', 'profile_path': None}, {'credit_id': '58921434c3a368096a00956e', 'department': 'Art', 'gender': 0, 'id': 1748711, 'job': 'Set Dresser', 'name': 'Ann M. Rockwell', 'profile_path': None}, {'credit_id': '5892144ac3a36809680090de', 'department': 'Editing', 'gender': 0, 'id': 1748712, 'job': 'Editorial Manager', 'name': 'Julie M. McDonald', 'profile_path': None}, {'credit_id': '58921479c3a368096800910f', 'department': 'Editing', 'gender': 0, 'id': 1589729, 'job': 'Assistant Editor', 'name': 'Robin Lee', 'profile_path': None}, {'credit_id': '5892148b9251412dd10099cc', 'department': 'Editing', 'gender': 0, 'id': 1748716, 'job': 'Assistant Editor', 'name': 'Tom Freeman', 'profile_path': None}, {'credit_id': '589214959251412dcb009b1f', 'department': 'Editing', 'gender': 0, 'id': 1748717, 'job': 'Assistant Editor', 'name': 'Ada Cochavi', 'profile_path': None}, {'credit_id': '5892149ec3a3686348004798', 'department': 'Editing', 'gender': 0, 'id': 1336438, 'job': 'Assistant Editor', 'name': 'Dana Mulligan', 'profile_path': None}, {'credit_id': '589214adc3a368096a0095db', 'department': 'Editing', 'gender': 0, 'id': 1748718, 'job': 'Editorial Coordinator', 'name': 'Deirdre Morrison', 'profile_path': None}, {'credit_id': '589214c7c3a368097700952b', 'department': 'Production', 'gender': 0, 'id': 1748719, 'job': 'Production Coordinator', 'name': 'Lori Lombardo', 'profile_path': None}, {'credit_id': '589214cec3a368096a009603', 'department': 'Production', 'gender': 0, 'id': 1748720, 'job': 'Production Coordinator', 'name': 'Ellen Devine', 'profile_path': None}, {'credit_id': '589214e39251412dc8009904', 'department': 'Crew', 'gender': 0, 'id': 1468014, 'job': 'Unit Publicist', 'name': 'Lauren Beth Strogoff', 'profile_path': None}, {'credit_id': '58921544c3a3686b0a00507d', 'department': 'Sound', 'gender': 2, 'id': 2216, 'job': 'Sound Re-Recording Mixer', 'name': 'Gary Rydstrom', 'profile_path': '/jZpr1nVfO7lldWI0YtmP1FGw7Rj.jpg'}, {'credit_id': '5892154c9251412dd1009a56', 'department': 'Sound', 'gender': 0, 'id': 1425978, 'job': 'Sound Re-Recording Mixer', 'name': 'Gary Summers', 'profile_path': None}, {'credit_id': '58921555c3a36809680091bd', 'department': 'Sound', 'gender': 2, 'id': 8276, 'job': 'Supervising Sound Editor', 'name': 'Tim Holland', 'profile_path': None}, {'credit_id': '589215c39251412dcb009c12', 'department': 'Sound', 'gender': 0, 'id': 7069, 'job': 'Sound Effects Editor', 'name': 'Pat Jackson', 'profile_path': None}, {'credit_id': '58921698c3a368096a009788', 'department': 'Crew', 'gender': 2, 'id': 15894, 'job': 'Sound Design Assistant', 'name': 'Tom Myers', 'profile_path': None}, {'credit_id': '589216a89251412dc2009ca4', 'department': 'Sound', 'gender': 0, 'id': 1414177, 'job': 'Assistant Sound Editor', 'name': 'J.R. Grubbs', 'profile_path': None}, {'credit_id': '589216c19251412dc2009cb9', 'department': 'Sound', 'gender': 1, 'id': 1748724, 'job': 'Assistant Sound Editor', 'name': 'Susan Sanford', 'profile_path': None}, {'credit_id': '589216ccc3a3680973009274', 'department': 'Sound', 'gender': 0, 'id': 1748725, 'job': 'Assistant Sound Editor', 'name': 'Susan Popovic', 'profile_path': None}, {'credit_id': '589216d79251412dc8009aa0', 'department': 'Sound', 'gender': 0, 'id': 8067, 'job': 'Assistant Sound Editor', 'name': 'Dan Engstrom', 'profile_path': None}, {'credit_id': '589216e49251412dcd009a4f', 'department': 'Production', 'gender': 1, 'id': 7902, 'job': 'Casting Consultant', 'name': 'Ruth Lambert', 'profile_path': None}, {'credit_id': '589216f39251412dc2009cf3', 'department': 'Production', 'gender': 0, 'id': 84493, 'job': 'ADR Voice Casting', 'name': 'Mickie McGowan', 'profile_path': '/k7TjJBfINsg8vLQxJwos6XObAD6.jpg'}]\n",
            "<class 'list'>\n",
            "<class 'dict'>\n"
          ],
          "name": "stdout"
        }
      ]
    },
    {
      "cell_type": "markdown",
      "metadata": {
        "id": "_KoqGptxKlXG"
      },
      "source": [
        "Seems like the crew list for a particular movie has one dictionary object per crew member. Each dictionary has a key called 'job' which tells us if that person was the director or not. With that in mind we can create a function to extract the director:"
      ]
    },
    {
      "cell_type": "code",
      "metadata": {
        "id": "k2DE826h_eaY"
      },
      "source": [
        "def get_director(x):\n",
        "    for i in x:\n",
        "        if i['job'] == 'Director':\n",
        "            return i['name']\n",
        "    return np.nan"
      ],
      "execution_count": null,
      "outputs": []
    },
    {
      "cell_type": "markdown",
      "metadata": {
        "id": "FftBJlvaLCq5"
      },
      "source": [
        "We can do something similar to extract the actors, keywords and genres with a function as well:"
      ]
    },
    {
      "cell_type": "code",
      "metadata": {
        "id": "G53xlNZl_gn8"
      },
      "source": [
        "#Getting a list of the actors, keywords and genres\n",
        "def get_list(x):\n",
        "    if isinstance(x, list): #checking to see if the input is a list or not\n",
        "        names = [i['name'] for i in x] #if we take a look at the data, we find that\n",
        "        #the word 'name' is used as a key for the names actors, \n",
        "        #the actual keywords and the actual genres\n",
        "        \n",
        "        #Check if more than 3 elements exist. If yes, return only first three. \n",
        "        #If no, return entire list. Too many elements would slow down our algorithm \n",
        "        #too much, and three should be more than enough for good recommendations.\n",
        "        if len(names) > 3:\n",
        "            names = names[:3]\n",
        "        return names\n",
        "\n",
        "    #Return empty list in case of missing/malformed data\n",
        "    return []"
      ],
      "execution_count": null,
      "outputs": []
    },
    {
      "cell_type": "markdown",
      "metadata": {
        "id": "8ewYuJ0KMXol"
      },
      "source": [
        "Now that we have written functions to clean up our data into director names and lists with only the relevant info for cast, keywords and genres, we can apply those functions to our data and see the results:"
      ]
    },
    {
      "cell_type": "code",
      "metadata": {
        "id": "PlPMH-im_h_A",
        "colab": {
          "base_uri": "https://localhost:8080/",
          "height": 195
        },
        "outputId": "9c04dad3-80c9-4e4c-f972-8711d44905a3"
      },
      "source": [
        "metadata['director'] = metadata['crew'].apply(get_director)\n",
        "\n",
        "features = ['cast', 'keywords', 'genres']\n",
        "for feature in features:\n",
        "    metadata[feature] = metadata[feature].apply(get_list)\n",
        "\n",
        "metadata[['title', 'cast', 'director', 'keywords', 'genres']].head()"
      ],
      "execution_count": null,
      "outputs": [
        {
          "output_type": "execute_result",
          "data": {
            "text/html": [
              "<div>\n",
              "<style scoped>\n",
              "    .dataframe tbody tr th:only-of-type {\n",
              "        vertical-align: middle;\n",
              "    }\n",
              "\n",
              "    .dataframe tbody tr th {\n",
              "        vertical-align: top;\n",
              "    }\n",
              "\n",
              "    .dataframe thead th {\n",
              "        text-align: right;\n",
              "    }\n",
              "</style>\n",
              "<table border=\"1\" class=\"dataframe\">\n",
              "  <thead>\n",
              "    <tr style=\"text-align: right;\">\n",
              "      <th></th>\n",
              "      <th>title</th>\n",
              "      <th>cast</th>\n",
              "      <th>director</th>\n",
              "      <th>keywords</th>\n",
              "      <th>genres</th>\n",
              "    </tr>\n",
              "  </thead>\n",
              "  <tbody>\n",
              "    <tr>\n",
              "      <th>0</th>\n",
              "      <td>Toy Story</td>\n",
              "      <td>[Tom Hanks, Tim Allen, Don Rickles]</td>\n",
              "      <td>John Lasseter</td>\n",
              "      <td>[jealousy, toy, boy]</td>\n",
              "      <td>[Animation, Comedy, Family]</td>\n",
              "    </tr>\n",
              "    <tr>\n",
              "      <th>1</th>\n",
              "      <td>Jumanji</td>\n",
              "      <td>[Robin Williams, Jonathan Hyde, Kirsten Dunst]</td>\n",
              "      <td>Joe Johnston</td>\n",
              "      <td>[board game, disappearance, based on children'...</td>\n",
              "      <td>[Adventure, Fantasy, Family]</td>\n",
              "    </tr>\n",
              "    <tr>\n",
              "      <th>2</th>\n",
              "      <td>Grumpier Old Men</td>\n",
              "      <td>[Walter Matthau, Jack Lemmon, Ann-Margret]</td>\n",
              "      <td>Howard Deutch</td>\n",
              "      <td>[fishing, best friend, duringcreditsstinger]</td>\n",
              "      <td>[Romance, Comedy]</td>\n",
              "    </tr>\n",
              "    <tr>\n",
              "      <th>3</th>\n",
              "      <td>Waiting to Exhale</td>\n",
              "      <td>[Whitney Houston, Angela Bassett, Loretta Devine]</td>\n",
              "      <td>Forest Whitaker</td>\n",
              "      <td>[based on novel, interracial relationship, sin...</td>\n",
              "      <td>[Comedy, Drama, Romance]</td>\n",
              "    </tr>\n",
              "    <tr>\n",
              "      <th>4</th>\n",
              "      <td>Father of the Bride Part II</td>\n",
              "      <td>[Steve Martin, Diane Keaton, Martin Short]</td>\n",
              "      <td>Charles Shyer</td>\n",
              "      <td>[baby, midlife crisis, confidence]</td>\n",
              "      <td>[Comedy]</td>\n",
              "    </tr>\n",
              "  </tbody>\n",
              "</table>\n",
              "</div>"
            ],
            "text/plain": [
              "                         title  ...                        genres\n",
              "0                    Toy Story  ...   [Animation, Comedy, Family]\n",
              "1                      Jumanji  ...  [Adventure, Fantasy, Family]\n",
              "2             Grumpier Old Men  ...             [Romance, Comedy]\n",
              "3            Waiting to Exhale  ...      [Comedy, Drama, Romance]\n",
              "4  Father of the Bride Part II  ...                      [Comedy]\n",
              "\n",
              "[5 rows x 5 columns]"
            ]
          },
          "metadata": {
            "tags": []
          },
          "execution_count": 12
        }
      ]
    },
    {
      "cell_type": "markdown",
      "metadata": {
        "id": "TTmwATdJMzt-"
      },
      "source": [
        "Seems like everything is working fine! Note that our objective is to eventually have one big word soup for each movie such that we can vectorize these soups and then compute cosine similarity. This means we have to clean up the data a bit more: we want to get every entry to be lower caps, and we want to have names be put together without a space to make sure that when we vectorize, we aren't storing the \"Robert\" in \"Robert De Niro\" with the same variable as the \"Robert\" in \"Robert Downey Junior\", because it would be arbitrary to say that these actors are similar just based on their name. If we store these as \"robertdeniro\" and \"robertdowneyjunior\" instead, we are creating separate vectorizations."
      ]
    },
    {
      "cell_type": "code",
      "metadata": {
        "id": "ngfc9iZ6_lgb"
      },
      "source": [
        "def clean_data(x):\n",
        "    if isinstance(x, list):\n",
        "        return [str.lower(i.replace(\" \", \"\")) for i in x] #cleaning up spaces in the data\n",
        "    else:\n",
        "        #Check if director exists. If not, return empty string\n",
        "        if isinstance(x, str):\n",
        "            return str.lower(x.replace(\" \", \"\"))\n",
        "        else:\n",
        "            return ''"
      ],
      "execution_count": null,
      "outputs": []
    },
    {
      "cell_type": "markdown",
      "metadata": {
        "id": "fMmO5ooKODJZ"
      },
      "source": [
        "Now that we have a cleanup function that works for both lists and strings, we can use it on our data:"
      ]
    },
    {
      "cell_type": "code",
      "metadata": {
        "id": "RYZc2IQl_mGy",
        "colab": {
          "base_uri": "https://localhost:8080/",
          "height": 652
        },
        "outputId": "aee898a7-d0c1-4c77-a401-bc04f4c5d455"
      },
      "source": [
        "# Apply clean_data function to your features.\n",
        "features = ['cast', 'keywords', 'director', 'genres']\n",
        "\n",
        "for feature in features:\n",
        "    metadata[feature] = metadata[feature].apply(clean_data)\n",
        "\n",
        "metadata.head()"
      ],
      "execution_count": null,
      "outputs": [
        {
          "output_type": "execute_result",
          "data": {
            "text/html": [
              "<div>\n",
              "<style scoped>\n",
              "    .dataframe tbody tr th:only-of-type {\n",
              "        vertical-align: middle;\n",
              "    }\n",
              "\n",
              "    .dataframe tbody tr th {\n",
              "        vertical-align: top;\n",
              "    }\n",
              "\n",
              "    .dataframe thead th {\n",
              "        text-align: right;\n",
              "    }\n",
              "</style>\n",
              "<table border=\"1\" class=\"dataframe\">\n",
              "  <thead>\n",
              "    <tr style=\"text-align: right;\">\n",
              "      <th></th>\n",
              "      <th>adult</th>\n",
              "      <th>belongs_to_collection</th>\n",
              "      <th>budget</th>\n",
              "      <th>genres</th>\n",
              "      <th>homepage</th>\n",
              "      <th>id</th>\n",
              "      <th>imdb_id</th>\n",
              "      <th>original_language</th>\n",
              "      <th>original_title</th>\n",
              "      <th>overview</th>\n",
              "      <th>popularity</th>\n",
              "      <th>poster_path</th>\n",
              "      <th>production_companies</th>\n",
              "      <th>production_countries</th>\n",
              "      <th>release_date</th>\n",
              "      <th>revenue</th>\n",
              "      <th>runtime</th>\n",
              "      <th>spoken_languages</th>\n",
              "      <th>status</th>\n",
              "      <th>tagline</th>\n",
              "      <th>title</th>\n",
              "      <th>video</th>\n",
              "      <th>vote_average</th>\n",
              "      <th>vote_count</th>\n",
              "      <th>cast</th>\n",
              "      <th>crew</th>\n",
              "      <th>keywords</th>\n",
              "      <th>director</th>\n",
              "    </tr>\n",
              "  </thead>\n",
              "  <tbody>\n",
              "    <tr>\n",
              "      <th>0</th>\n",
              "      <td>False</td>\n",
              "      <td>{'id': 10194, 'name': 'Toy Story Collection', ...</td>\n",
              "      <td>30000000</td>\n",
              "      <td>[animation, comedy, family]</td>\n",
              "      <td>http://toystory.disney.com/toy-story</td>\n",
              "      <td>862</td>\n",
              "      <td>tt0114709</td>\n",
              "      <td>en</td>\n",
              "      <td>Toy Story</td>\n",
              "      <td>Led by Woody, Andy's toys live happily in his ...</td>\n",
              "      <td>21.9469</td>\n",
              "      <td>/rhIRbceoE9lR4veEXuwCC2wARtG.jpg</td>\n",
              "      <td>[{'name': 'Pixar Animation Studios', 'id': 3}]</td>\n",
              "      <td>[{'iso_3166_1': 'US', 'name': 'United States o...</td>\n",
              "      <td>1995-10-30</td>\n",
              "      <td>373554033.0</td>\n",
              "      <td>81.0</td>\n",
              "      <td>[{'iso_639_1': 'en', 'name': 'English'}]</td>\n",
              "      <td>Released</td>\n",
              "      <td>NaN</td>\n",
              "      <td>Toy Story</td>\n",
              "      <td>False</td>\n",
              "      <td>7.7</td>\n",
              "      <td>5415.0</td>\n",
              "      <td>[tomhanks, timallen, donrickles]</td>\n",
              "      <td>[{'credit_id': '52fe4284c3a36847f8024f49', 'de...</td>\n",
              "      <td>[jealousy, toy, boy]</td>\n",
              "      <td>johnlasseter</td>\n",
              "    </tr>\n",
              "    <tr>\n",
              "      <th>1</th>\n",
              "      <td>False</td>\n",
              "      <td>NaN</td>\n",
              "      <td>65000000</td>\n",
              "      <td>[adventure, fantasy, family]</td>\n",
              "      <td>NaN</td>\n",
              "      <td>8844</td>\n",
              "      <td>tt0113497</td>\n",
              "      <td>en</td>\n",
              "      <td>Jumanji</td>\n",
              "      <td>When siblings Judy and Peter discover an encha...</td>\n",
              "      <td>17.0155</td>\n",
              "      <td>/vzmL6fP7aPKNKPRTFnZmiUfciyV.jpg</td>\n",
              "      <td>[{'name': 'TriStar Pictures', 'id': 559}, {'na...</td>\n",
              "      <td>[{'iso_3166_1': 'US', 'name': 'United States o...</td>\n",
              "      <td>1995-12-15</td>\n",
              "      <td>262797249.0</td>\n",
              "      <td>104.0</td>\n",
              "      <td>[{'iso_639_1': 'en', 'name': 'English'}, {'iso...</td>\n",
              "      <td>Released</td>\n",
              "      <td>Roll the dice and unleash the excitement!</td>\n",
              "      <td>Jumanji</td>\n",
              "      <td>False</td>\n",
              "      <td>6.9</td>\n",
              "      <td>2413.0</td>\n",
              "      <td>[robinwilliams, jonathanhyde, kirstendunst]</td>\n",
              "      <td>[{'credit_id': '52fe44bfc3a36847f80a7cd1', 'de...</td>\n",
              "      <td>[boardgame, disappearance, basedonchildren'sbook]</td>\n",
              "      <td>joejohnston</td>\n",
              "    </tr>\n",
              "    <tr>\n",
              "      <th>2</th>\n",
              "      <td>False</td>\n",
              "      <td>{'id': 119050, 'name': 'Grumpy Old Men Collect...</td>\n",
              "      <td>0</td>\n",
              "      <td>[romance, comedy]</td>\n",
              "      <td>NaN</td>\n",
              "      <td>15602</td>\n",
              "      <td>tt0113228</td>\n",
              "      <td>en</td>\n",
              "      <td>Grumpier Old Men</td>\n",
              "      <td>A family wedding reignites the ancient feud be...</td>\n",
              "      <td>11.7129</td>\n",
              "      <td>/6ksm1sjKMFLbO7UY2i6G1ju9SML.jpg</td>\n",
              "      <td>[{'name': 'Warner Bros.', 'id': 6194}, {'name'...</td>\n",
              "      <td>[{'iso_3166_1': 'US', 'name': 'United States o...</td>\n",
              "      <td>1995-12-22</td>\n",
              "      <td>0.0</td>\n",
              "      <td>101.0</td>\n",
              "      <td>[{'iso_639_1': 'en', 'name': 'English'}]</td>\n",
              "      <td>Released</td>\n",
              "      <td>Still Yelling. Still Fighting. Still Ready for...</td>\n",
              "      <td>Grumpier Old Men</td>\n",
              "      <td>False</td>\n",
              "      <td>6.5</td>\n",
              "      <td>92.0</td>\n",
              "      <td>[waltermatthau, jacklemmon, ann-margret]</td>\n",
              "      <td>[{'credit_id': '52fe466a9251416c75077a89', 'de...</td>\n",
              "      <td>[fishing, bestfriend, duringcreditsstinger]</td>\n",
              "      <td>howarddeutch</td>\n",
              "    </tr>\n",
              "    <tr>\n",
              "      <th>3</th>\n",
              "      <td>False</td>\n",
              "      <td>NaN</td>\n",
              "      <td>16000000</td>\n",
              "      <td>[comedy, drama, romance]</td>\n",
              "      <td>NaN</td>\n",
              "      <td>31357</td>\n",
              "      <td>tt0114885</td>\n",
              "      <td>en</td>\n",
              "      <td>Waiting to Exhale</td>\n",
              "      <td>Cheated on, mistreated and stepped on, the wom...</td>\n",
              "      <td>3.85949</td>\n",
              "      <td>/16XOMpEaLWkrcPqSQqhTmeJuqQl.jpg</td>\n",
              "      <td>[{'name': 'Twentieth Century Fox Film Corporat...</td>\n",
              "      <td>[{'iso_3166_1': 'US', 'name': 'United States o...</td>\n",
              "      <td>1995-12-22</td>\n",
              "      <td>81452156.0</td>\n",
              "      <td>127.0</td>\n",
              "      <td>[{'iso_639_1': 'en', 'name': 'English'}]</td>\n",
              "      <td>Released</td>\n",
              "      <td>Friends are the people who let you be yourself...</td>\n",
              "      <td>Waiting to Exhale</td>\n",
              "      <td>False</td>\n",
              "      <td>6.1</td>\n",
              "      <td>34.0</td>\n",
              "      <td>[whitneyhouston, angelabassett, lorettadevine]</td>\n",
              "      <td>[{'credit_id': '52fe44779251416c91011acb', 'de...</td>\n",
              "      <td>[basedonnovel, interracialrelationship, single...</td>\n",
              "      <td>forestwhitaker</td>\n",
              "    </tr>\n",
              "    <tr>\n",
              "      <th>4</th>\n",
              "      <td>False</td>\n",
              "      <td>{'id': 96871, 'name': 'Father of the Bride Col...</td>\n",
              "      <td>0</td>\n",
              "      <td>[comedy]</td>\n",
              "      <td>NaN</td>\n",
              "      <td>11862</td>\n",
              "      <td>tt0113041</td>\n",
              "      <td>en</td>\n",
              "      <td>Father of the Bride Part II</td>\n",
              "      <td>Just when George Banks has recovered from his ...</td>\n",
              "      <td>8.38752</td>\n",
              "      <td>/e64sOI48hQXyru7naBFyssKFxVd.jpg</td>\n",
              "      <td>[{'name': 'Sandollar Productions', 'id': 5842}...</td>\n",
              "      <td>[{'iso_3166_1': 'US', 'name': 'United States o...</td>\n",
              "      <td>1995-02-10</td>\n",
              "      <td>76578911.0</td>\n",
              "      <td>106.0</td>\n",
              "      <td>[{'iso_639_1': 'en', 'name': 'English'}]</td>\n",
              "      <td>Released</td>\n",
              "      <td>Just When His World Is Back To Normal... He's ...</td>\n",
              "      <td>Father of the Bride Part II</td>\n",
              "      <td>False</td>\n",
              "      <td>5.7</td>\n",
              "      <td>173.0</td>\n",
              "      <td>[stevemartin, dianekeaton, martinshort]</td>\n",
              "      <td>[{'credit_id': '52fe44959251416c75039ed7', 'de...</td>\n",
              "      <td>[baby, midlifecrisis, confidence]</td>\n",
              "      <td>charlesshyer</td>\n",
              "    </tr>\n",
              "  </tbody>\n",
              "</table>\n",
              "</div>"
            ],
            "text/plain": [
              "   adult  ...        director\n",
              "0  False  ...    johnlasseter\n",
              "1  False  ...     joejohnston\n",
              "2  False  ...    howarddeutch\n",
              "3  False  ...  forestwhitaker\n",
              "4  False  ...    charlesshyer\n",
              "\n",
              "[5 rows x 28 columns]"
            ]
          },
          "metadata": {
            "tags": []
          },
          "execution_count": 14
        }
      ]
    },
    {
      "cell_type": "markdown",
      "metadata": {
        "id": "hqD5WJtfOQYO"
      },
      "source": [
        "The data is now cleaned! Finally, we are ready to create our soup for each movie. We can now create a funcion that iterates over the rows of our metadata and joins the keywords, cast, director and genres columns into one big word soup. Each element will be separated by a space \" \" that will signal to our vectorization function that that is a particular word, to be encoded separately and uniquely. "
      ]
    },
    {
      "cell_type": "code",
      "metadata": {
        "id": "w2BPEK_x_o2z",
        "colab": {
          "base_uri": "https://localhost:8080/",
          "height": 279
        },
        "outputId": "880ebfc8-e151-41d6-f857-875843050e43"
      },
      "source": [
        "#This function makes use of the property of the cosine similarity funciton that\n",
        "#the order and types of inputs don't matter, what matters is the similarity\n",
        "#between different soups of words\n",
        "def create_soup(x):\n",
        "    return ' '.join(x['keywords']) + ' ' + ' '.join(x['cast']) + ' ' + x['director'] + ' ' + ' '.join(x['genres'])\n",
        "\n",
        "metadata['soup'] = metadata.apply(create_soup, axis=1)\n",
        "#metadata.head()\n",
        "metadata[['title', 'soup', 'cast', 'director', 'keywords', 'genres']].head()"
      ],
      "execution_count": null,
      "outputs": [
        {
          "output_type": "execute_result",
          "data": {
            "text/html": [
              "<div>\n",
              "<style scoped>\n",
              "    .dataframe tbody tr th:only-of-type {\n",
              "        vertical-align: middle;\n",
              "    }\n",
              "\n",
              "    .dataframe tbody tr th {\n",
              "        vertical-align: top;\n",
              "    }\n",
              "\n",
              "    .dataframe thead th {\n",
              "        text-align: right;\n",
              "    }\n",
              "</style>\n",
              "<table border=\"1\" class=\"dataframe\">\n",
              "  <thead>\n",
              "    <tr style=\"text-align: right;\">\n",
              "      <th></th>\n",
              "      <th>title</th>\n",
              "      <th>soup</th>\n",
              "      <th>cast</th>\n",
              "      <th>director</th>\n",
              "      <th>keywords</th>\n",
              "      <th>genres</th>\n",
              "    </tr>\n",
              "  </thead>\n",
              "  <tbody>\n",
              "    <tr>\n",
              "      <th>0</th>\n",
              "      <td>Toy Story</td>\n",
              "      <td>jealousy toy boy tomhanks timallen donrickles ...</td>\n",
              "      <td>[tomhanks, timallen, donrickles]</td>\n",
              "      <td>johnlasseter</td>\n",
              "      <td>[jealousy, toy, boy]</td>\n",
              "      <td>[animation, comedy, family]</td>\n",
              "    </tr>\n",
              "    <tr>\n",
              "      <th>1</th>\n",
              "      <td>Jumanji</td>\n",
              "      <td>boardgame disappearance basedonchildren'sbook ...</td>\n",
              "      <td>[robinwilliams, jonathanhyde, kirstendunst]</td>\n",
              "      <td>joejohnston</td>\n",
              "      <td>[boardgame, disappearance, basedonchildren'sbook]</td>\n",
              "      <td>[adventure, fantasy, family]</td>\n",
              "    </tr>\n",
              "    <tr>\n",
              "      <th>2</th>\n",
              "      <td>Grumpier Old Men</td>\n",
              "      <td>fishing bestfriend duringcreditsstinger walter...</td>\n",
              "      <td>[waltermatthau, jacklemmon, ann-margret]</td>\n",
              "      <td>howarddeutch</td>\n",
              "      <td>[fishing, bestfriend, duringcreditsstinger]</td>\n",
              "      <td>[romance, comedy]</td>\n",
              "    </tr>\n",
              "    <tr>\n",
              "      <th>3</th>\n",
              "      <td>Waiting to Exhale</td>\n",
              "      <td>basedonnovel interracialrelationship singlemot...</td>\n",
              "      <td>[whitneyhouston, angelabassett, lorettadevine]</td>\n",
              "      <td>forestwhitaker</td>\n",
              "      <td>[basedonnovel, interracialrelationship, single...</td>\n",
              "      <td>[comedy, drama, romance]</td>\n",
              "    </tr>\n",
              "    <tr>\n",
              "      <th>4</th>\n",
              "      <td>Father of the Bride Part II</td>\n",
              "      <td>baby midlifecrisis confidence stevemartin dian...</td>\n",
              "      <td>[stevemartin, dianekeaton, martinshort]</td>\n",
              "      <td>charlesshyer</td>\n",
              "      <td>[baby, midlifecrisis, confidence]</td>\n",
              "      <td>[comedy]</td>\n",
              "    </tr>\n",
              "  </tbody>\n",
              "</table>\n",
              "</div>"
            ],
            "text/plain": [
              "                         title  ...                        genres\n",
              "0                    Toy Story  ...   [animation, comedy, family]\n",
              "1                      Jumanji  ...  [adventure, fantasy, family]\n",
              "2             Grumpier Old Men  ...             [romance, comedy]\n",
              "3            Waiting to Exhale  ...      [comedy, drama, romance]\n",
              "4  Father of the Bride Part II  ...                      [comedy]\n",
              "\n",
              "[5 rows x 6 columns]"
            ]
          },
          "metadata": {
            "tags": []
          },
          "execution_count": 16
        }
      ]
    },
    {
      "cell_type": "markdown",
      "metadata": {
        "id": "Ze8AEvnfPOIj"
      },
      "source": [
        "Take a look at the soup! It looks pretty good: all the information about each movie is now a compact list of names corresponding to the genres, director, actors and keywords. \n",
        "\n",
        "Now that we have the soup for each movie, we want to create one more soup every time our recommender is run: a soup of inputs by the user. We wan't to collect what genres, directors, actors and keywords THEY like, so that we can then vectorize everything, compute pairwise cosine similarity between that input and each movie in our database, and rank which are the most similar movies to that input. To that effect, Dennis wrote the following code:"
      ]
    },
    {
      "cell_type": "code",
      "metadata": {
        "id": "OdNTn1LA1qJA"
      },
      "source": [
        "#Getting the user's input for genre, actors and directors of their liking.\n",
        "def get_genres():\n",
        "  genres = input(\"What Movie Genre are you interested in (if multiple, please separate them with a comma)? [Type 'skip' to skip this question] \")\n",
        "  genres = \" \".join([\"\".join(n.split()) for n in genres.lower().split(',')])\n",
        "  return genres\n",
        "\n",
        "def get_actors():\n",
        "  actors = input(\"Who are some actors within the genre that you love (if multiple, please separate them with a comma)? [Type 'skip' to skip this question] \")\n",
        "  actors = \" \".join([\"\".join(n.split()) for n in actors.lower().split(',')])\n",
        "  return actors\n",
        "\n",
        "def get_directors():\n",
        "  directors = input(\"Who are some directors within the genre that you love (if multiple, please separate them with a comma)? [Type 'skip' to skip this question] \")\n",
        "  directors = \" \".join([\"\".join(n.split()) for n in directors.lower().split(',')])\n",
        "  return directors\n",
        "\n",
        "def get_keywords():\n",
        "  keywords = input(\"What are some of the keywords that describe the movie you want to watch, like elements of the plot, whether or not it is about friendship, etc? (if multiple, please separate them with a comma)? [Type 'skip' to skip this question] \")\n",
        "  keywords = \" \".join([\"\".join(n.split()) for n in keywords.lower().split(',')])\n",
        "  return keywords\n",
        "\n",
        "def get_searchTerms():\n",
        "  searchTerms = [] \n",
        "  genres = get_genres()\n",
        "  if genres != 'skip':\n",
        "    searchTerms.append(genres)\n",
        "\n",
        "  actors = get_actors()\n",
        "  if actors != 'skip':\n",
        "    searchTerms.append(actors)\n",
        "\n",
        "  directors = get_directors()\n",
        "  if directors != 'skip':\n",
        "    searchTerms.append(directors)\n",
        "\n",
        "  keywords = get_keywords()\n",
        "  if keywords != 'skip':\n",
        "    searchTerms.append(keywords)\n",
        "  \n",
        "  return searchTerms"
      ],
      "execution_count": null,
      "outputs": []
    },
    {
      "cell_type": "markdown",
      "metadata": {
        "id": "3SeDpAwoQQr9"
      },
      "source": [
        "Note how each of the functions above are prompting a different type of inputs for search, and how we structured the input questions to make sure that they are adequately formatted for our funtions to convert them into lists that can then be 'word souped' and vectorized with the word soups for our movies."
      ]
    },
    {
      "cell_type": "markdown",
      "metadata": {
        "id": "jOaDX-4Ppeik"
      },
      "source": [
        "## Creating Our Recommendation Model Based on Count Vectoriser and Cosine Similarity\n",
        "\n",
        "With our building blocks in place, and our data properly formatted, we can finally implement the ranking/recommendation function. As mentioned above, our function will take as an input the data that has already been pre-processed above, and will ask for user input. It will then word-soupify the user input, and add it as a row to our data. Next, it will vectorize these wordsoups using a function from the sklearn python library called CountVectorizer. CountVectorizer is extremely simple in what it does: it takes documents (different stings) and returns a tokenized matrix. Each wordsoup is encoded into frequencies of words in that wordsoup. For example, the following sentences, stored in a list: \n",
        "\n",
        "corpus = [\n",
        "\n",
        "'This is the first document.',\n",
        "\n",
        "'This document is the second document.',\n",
        "\n",
        "'And this is the third one.',\n",
        "\n",
        "'Is this the first document?']\n",
        "\n",
        "\n",
        "If we apply the CountVectorizer to them, we would get the following table:\n",
        "\n",
        "|Word 1|Word 2|Word 3|Word 4|Word 5|Word 6|Word 7|Word 8|Word 9|\n",
        "|---|---|---|---|---|---|---|---|---|\n",
        "|0|1|1|1|0|0|1|0|1|\n",
        "|0|2|0|1|0|1|1|0|1|\n",
        "|1|0|0|1|1|0|1|1|1|\n",
        "|0|1|1|1|0|0|1|0|1|\n",
        "\n",
        "Word 2, for example, is 'document', and this table reflects that for the first sentence the word document is present once, and that for the second sentence the word document is present twice.\n",
        "\n",
        "Note that for our recommendation algorithm, we also want to vectrorize the user input. We chose to do that by simiply adding the inputted word soup to the metadata table, as the last entry, and then running the vectorization. While this isn't the most efficient way to go about it, the CountVectorize function is very quick to run and spends little resources. The bigger problem we have to face is the cosine similarity calculations.\n",
        "\n",
        "Cosine similarity is a mathematical computation that tells us the similarity between two vectors $A$ and $B$. In effect, we are calculating the cosine of the angle $\\theta$ between these two vectors. The function returns a value between -1,  indicating complete opposite vectors, to 1, indicating the same vector. 0 indicates a lack of correlation between the vectors, and intermediate values indicate intermediate levels of similarity. The formula we use to compute cosine similarity is the following:\n",
        "\n",
        "$\\cos(\\theta)=\\frac{A\\cdot B}{||A||\\space||B||}$, where $||A||=\\sqrt{\\sum_{i=1}^{n}{A_i}^2}$ and $||B||=\\sqrt{\\sum_{i=1}^{n}{B_i}^2}$.\n",
        "\n",
        "Note that the cosine similarity function increases linearly in complexity as we increase the size of A and B (note that A and B have the same size, $n$). The dot product of A and B will require *n+t* more computations if we add *t* more values to A and B, and the magnitude of each of these will also increase linearly. So far, no trouble in computational complexity.\n",
        "\n",
        "However, our algorithm performs cosine similarity computation between each possibe pair of movies. If we have $k$ movies, then we need to perform $k^2$ computations. This is the reason why we had to reduce the number of movies in our dataset from 45,000 to 10,000: the 35,000 movie difference translates into $1.925*10^9$ computations. Of course, there are methods to decrease the number of computations required and therefore allow us to use the entire dataset, but we decided to leave these as backlogged potential improvements for now. \n",
        "\n",
        "\n",
        "\n"
      ]
    },
    {
      "cell_type": "code",
      "metadata": {
        "id": "o-JGSl2r_qPC"
      },
      "source": [
        "from sklearn.feature_extraction.text import CountVectorizer\n",
        "from sklearn.metrics.pairwise import cosine_similarity\n",
        "\n",
        "def make_recommendation(metadata=metadata):\n",
        "  new_row = metadata.iloc[-1,:].copy() #creating a copy of the last row of the \n",
        "  #dataset, which we will use to input the user's input\n",
        "  \n",
        "  #grabbing the new wordsoup from the user\n",
        "  searchTerms = get_searchTerms()  \n",
        "  new_row.iloc[-1] = \" \".join(searchTerms) #adding the input to our new row\n",
        "  \n",
        "  #adding the new row to the dataset\n",
        "  metadata = metadata.append(new_row)\n",
        "  \n",
        "  #Vectorizing the entire matrix as described above!\n",
        "  count = CountVectorizer(stop_words='english')\n",
        "  count_matrix = count.fit_transform(metadata['soup'])\n",
        "\n",
        "  #running pairwise cosine similarity \n",
        "  cosine_sim2 = cosine_similarity(count_matrix, count_matrix) #getting a similarity matrix\n",
        "  \n",
        "  #sorting cosine similarities by highest to lowest\n",
        "  sim_scores = list(enumerate(cosine_sim2[-1,:]))\n",
        "  sim_scores = sorted(sim_scores, key=lambda x: x[1], reverse=True)\n",
        "\n",
        "  #matching the similarities to the movie titles and ids\n",
        "  ranked_titles = []\n",
        "  for i in range(1, 11):\n",
        "    indx = sim_scores[i][0]\n",
        "    ranked_titles.append([metadata['title'].iloc[indx], metadata['imdb_id'].iloc[indx]])\n",
        "  \n",
        "  return ranked_titles"
      ],
      "execution_count": null,
      "outputs": []
    },
    {
      "cell_type": "code",
      "metadata": {
        "id": "UXVjbPsrEydK",
        "colab": {
          "base_uri": "https://localhost:8080/"
        },
        "outputId": "1939de54-8142-433d-ad52-85ecc020d02e"
      },
      "source": [
        "make_recommendation()"
      ],
      "execution_count": null,
      "outputs": [
        {
          "output_type": "stream",
          "text": [
            "What Movie Genre are you interested in (if multiple, please separate them with a comma)? [Type 'skip' to skip this question] horror\n",
            "Who are some actors within the genre that you love (if multiple, please separate them with a comma)? [Type 'skip' to skip this question] tom Cruise\n",
            "Who are some directors within the genre that you love (if multiple, please separate them with a comma)? [Type 'skip' to skip this question] james cameron\n",
            "What are some of the keywords that describe the movie you want to watch, like elements of the plot, whether or not it is about friendship, etc? (if multiple, please separate them with a comma)? [Type 'skip' to skip this question] blood, boat, romance, sex, magic\n"
          ],
          "name": "stdout"
        },
        {
          "output_type": "execute_result",
          "data": {
            "text/plain": [
              "[['Interview with the Vampire', 'tt0110148'],\n",
              " ['Empire of Passion', 'tt0077132'],\n",
              " ['All the Right Moves', 'tt0085154'],\n",
              " ['Love Object', 'tt0328077'],\n",
              " ['Women in Love', 'tt0066579'],\n",
              " ['Once Bitten', 'tt0089730'],\n",
              " ['Amityville II: The Possession', 'tt0083550'],\n",
              " ['Prom Night IV: Deliver Us from Evil', 'tt0105179'],\n",
              " ['Vampyros Lesbos', 'tt0066380'],\n",
              " ['Rowing with the Wind', 'tt0093840']]"
            ]
          },
          "metadata": {
            "tags": []
          },
          "execution_count": 72
        }
      ]
    },
    {
      "cell_type": "markdown",
      "metadata": {
        "id": "SixopVoqigQC"
      },
      "source": [
        "# References\n",
        "https://www.datacamp.com/community/tutorials/recommender-systems-python\n",
        "https://www.kaggle.com/rounakbanik/the-movies-dataset\n",
        "https://www.kite.com/python/docs/ast.literal_eval\n",
        "https://scikit-learn.org/stable/modules/generated/sklearn.feature_extraction.text.CountVectorizer.html\n"
      ]
    }
  ]
}